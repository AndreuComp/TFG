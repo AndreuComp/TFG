{
 "cells": [
  {
   "cell_type": "code",
   "execution_count": 1,
   "metadata": {},
   "outputs": [],
   "source": [
    "# LIBRERIAS\n",
    "import pandas as pd\n",
    "import numpy as np\n",
    "import math as math\n",
    "import xgboost as xgb\n",
    "import matplotlib.pyplot as plt\n",
    "from sklearn.preprocessing import LabelEncoder\n",
    "from sklearn.preprocessing import OneHotEncoder\n",
    "from sklearn.feature_selection import SelectFromModel\n",
    "from sklearn.model_selection import GridSearchCV\n",
    "from sklearn.metrics import mean_squared_error\n",
    "from sklearn.model_selection import train_test_split"
   ]
  },
  {
   "cell_type": "markdown",
   "metadata": {},
   "source": [
    "Haremos el ejemplo de esta aplicación para una observación, cojeremos la observación número 3"
   ]
  },
  {
   "cell_type": "code",
   "execution_count": 2,
   "metadata": {},
   "outputs": [],
   "source": [
    "df = pd.read_csv(\"df_modelo.csv\")\n",
    "X_y1 = pd.read_csv(\"X_y1.csv\")\n",
    "X_y2 = pd.read_csv(\"X_y2.csv\")\n",
    "y1 = df[\"booking_score\"]\n",
    "y2 = df[\"review_score\"]"
   ]
  },
  {
   "cell_type": "code",
   "execution_count": 3,
   "metadata": {},
   "outputs": [],
   "source": [
    "del df[\"Unnamed: 0\"]\n",
    "del X_y1[\"Unnamed: 0\"]\n",
    "del X_y2[\"Unnamed: 0\"]"
   ]
  },
  {
   "cell_type": "code",
   "execution_count": 4,
   "metadata": {},
   "outputs": [],
   "source": [
    "id = 3\n",
    "\n",
    "X_y1_test = X_y1.loc[X_y1.index == id,:]\n",
    "X_y2_test = X_y2.loc[X_y1.index == id,:]\n",
    "X_y1_train = X_y1.drop(id)\n",
    "X_y2_train = X_y2.drop(id)\n",
    "y1_train = y1.drop(id)\n",
    "y2_train = y2.drop(id)\n",
    "y1_test = y1[y1.index == id]\n",
    "y2_test = y2[y2.index == id]"
   ]
  },
  {
   "cell_type": "markdown",
   "metadata": {},
   "source": [
    "Parametros para el modelo de y1:\n",
    "\n",
    "{'objective':'reg:linear',\n",
    "'max_depth': 7,\n",
    "'learning_rate': 0.005,\n",
    "'colsample_bytree': 0.45,\n",
    "'n_estimators' = 2100}\n",
    "\n",
    "Parametros para el modelo de y2:\n",
    "\n",
    "{'objective':'reg:linear', \n",
    "'max_depth': 10, \n",
    "'learning_rate': 0.01, \n",
    "'colsample_bytree': 0.45, \n",
    "'min_child_weight': 10, \n",
    "'min_split_loss': 10,\n",
    "'n_estimators' = 450}"
   ]
  },
  {
   "cell_type": "markdown",
   "metadata": {},
   "source": [
    "Variables que se pueden modificar en X_y1: \"price\", \"minimum_nights\", \"Shower gel\", \"host_response_time\" y \"license\".\n",
    "Variables que se pueden modificar en X_y2: \"host_acceptance_rate\", \"minimum_nights\", \"Coffe maker\", \"Dining table\", \"Shower gel\", \"Lock on bedroom door\", \"Cleaning products\", \"Wine glasses\", \"reviews\", \"host_respose_time\", \"host_is_superhost\", \"license\" y \"instant_bookable\"."
   ]
  },
  {
   "cell_type": "code",
   "execution_count": 5,
   "metadata": {},
   "outputs": [
    {
     "name": "stdout",
     "output_type": "stream",
     "text": [
      "[17:06:02] WARNING: C:/Users/Administrator/workspace/xgboost-win64_release_1.6.0/src/objective/regression_obj.cu:203: reg:linear is now deprecated in favor of reg:squarederror.\n"
     ]
    }
   ],
   "source": [
    "data_dmatrix_y1 = xgb.DMatrix(data=X_y1,label=y1)\n",
    "\n",
    "xg_reg_y1 = xgb.XGBRegressor(objective = 'reg:linear',max_depth =  7, learning_rate =  0.005, colsample_bytree = 0.45,  n_estimators = 2100)\n",
    "\n",
    "xg_reg_y1.fit(X_y1_train,y1_train)\n",
    "pred_y1 = xg_reg_y1.predict(X_y1_test)\n",
    "pred_train_y1 = xg_reg_y1.predict(X_y1_train)"
   ]
  },
  {
   "cell_type": "code",
   "execution_count": 6,
   "metadata": {},
   "outputs": [
    {
     "name": "stdout",
     "output_type": "stream",
     "text": [
      "[17:06:13] WARNING: C:/Users/Administrator/workspace/xgboost-win64_release_1.6.0/src/objective/regression_obj.cu:203: reg:linear is now deprecated in favor of reg:squarederror.\n"
     ]
    }
   ],
   "source": [
    "data_dmatrix_y2 = xgb.DMatrix(data=X_y2,label=y2)\n",
    "\n",
    "xg_reg_y2 = xgb.XGBRegressor(objective = 'reg:linear', max_depth = 10, learning_rate = 0.01, colsample_bytree = 0.45, min_child_weight = 10, min_split_loss = 10,  n_estimators = 450)\n",
    "\n",
    "xg_reg_y2.fit(X_y2_train,y2_train)\n",
    "pred_y2 = xg_reg_y2.predict(X_y2_test)\n",
    "pred_train_y2 = xg_reg_y2.predict(X_y2_train)"
   ]
  },
  {
   "cell_type": "code",
   "execution_count": 7,
   "metadata": {},
   "outputs": [
    {
     "data": {
      "text/plain": [
       "31.51977060066405"
      ]
     },
     "execution_count": 7,
     "metadata": {},
     "output_type": "execute_result"
    }
   ],
   "source": [
    "scores_y1 = np.append(pred_train_y1,pred_y1)\n",
    "scores_y2 = np.append(pred_train_y2,pred_y2)\n",
    "scores_y1 = list(scores_y1)\n",
    "scores_y2 = list(scores_y2)\n",
    "scores_y1 = [5 if ele > 5 else ele for ele in scores_y1]\n",
    "scores_y1 = [0 if ele < 0 else ele for ele in scores_y1]\n",
    "scores_y2 = [5 if ele > 5 else ele for ele in scores_y2]\n",
    "scores_y2 = [0 if ele < 0 else ele for ele in scores_y2]\n",
    "mixed_score = [x + y for x, y in zip(scores_y1, scores_y2)]\n",
    "score_pred = pred_y1 + pred_y2\n",
    "mixed_score.sort(reverse=True)\n",
    "(mixed_score.index(score_pred)/len(df)) * 100"
   ]
  },
  {
   "cell_type": "code",
   "execution_count": 8,
   "metadata": {},
   "outputs": [],
   "source": [
    "# FUNCION PARA VARIABLES NUMERICAS\n",
    "def set_numeric_variable_value(series, variable):\n",
    "    message = \"The value of \" + variable + \" is \" + str(series[variable].values[0]) + \" . Set new value (enter to remain the same): \"\n",
    "    new_value_str = input(message)\n",
    "    if (not new_value_str == \"\"):\n",
    "        series[variable] = float(new_value_str)\n",
    "        \n",
    "# FUNCION PARA VARIABLES CATEGORICAS\n",
    "def set_dummy_variable_value(series, variable, dictionary):\n",
    "    cont = 0\n",
    "    index = 0\n",
    "    for i in range(0,len(dictionary[variable])-1):\n",
    "        if (dictionary[variable][i] in list(series.columns)):\n",
    "            if((series[dictionary[variable][i]] == 1).bool()):\n",
    "                val = dictionary[variable][i]\n",
    "                cont = 1\n",
    "        else:\n",
    "            index = i\n",
    "    if (cont == 0):\n",
    "         val = dictionary[variable][index]\n",
    "    \n",
    "    ins = input(\"The value of \" + variable + \" is \" + val + \" : Select which one to set to 1: \" + str([(i,dictionary[variable][i]) for i in range(len(dictionary[variable]))]) + \"(enter to remain the same)\")\n",
    "    \n",
    "    if (ins != \"\"):\n",
    "        for value in dictionary[variable]:\n",
    "            if (value in list(series.columns)):\n",
    "                series[value] = 0\n",
    "        if((series[dictionary[variable][int(ins)]].name in list(series.columns))):\n",
    "            series[dictionary[variable][int(ins)]] = 1\n",
    "\n",
    "# FUNCION PARA TRANSFORMAR EL TEST\n",
    "def test_change(series1, series2, variables, dictionary):\n",
    "    for name in variables:\n",
    "        if (name in list(dictionary.keys())):\n",
    "            if (name in list(series1.columns)):\n",
    "                set_dummy_variable_value(series1, name, dictionary)\n",
    "                if (name in list(series2.columns)):\n",
    "                    series2[name] = series1[name]\n",
    "            else:\n",
    "                set_dummy_variable_value(series2, name, dictionary)\n",
    "        else:\n",
    "            if (name in list(series1.columns)):\n",
    "                set_numeric_variable_value(series1, name)\n",
    "                if (name in list(series2.columns)):\n",
    "                    series2[name] = series1[name]\n",
    "            else:\n",
    "                set_numeric_variable_value(series2,name)\n",
    "\n",
    "# FUNCION PARA CALCULAR EL RANKING\n",
    "def ranking_score(X_y1_train, X_y2_train, X_y1_test, X_y2_test, xg_reg1, xg_reg2):\n",
    "    pred_train_y1 = xg_reg1.predict(X_y1_train)\n",
    "    pred_train_y2 = xg_reg2.predict(X_y2_train)\n",
    "    pred_test_y1 = xg_reg1.predict(X_y1_test)\n",
    "    pred_test_y2 = xg_reg2.predict(X_y2_test)\n",
    "    scores_y1 = np.append(pred_train_y1,pred_test_y1)\n",
    "    scores_y2 = np.append(pred_train_y2,pred_test_y2)\n",
    "    scores_y1 = list(scores_y1)\n",
    "    scores_y2 = list(scores_y2)\n",
    "    scores_y1 = [5 if ele > 5 else ele for ele in scores_y1]\n",
    "    scores_y1 = [0 if ele < 0 else ele for ele in scores_y1]\n",
    "    scores_y2 = [5 if ele > 5 else ele for ele in scores_y2]\n",
    "    scores_y2 = [0 if ele < 0 else ele for ele in scores_y2]\n",
    "    mixed_score = [x + y for x, y in zip(scores_y1, scores_y2)]\n",
    "    score_pred = pred_test_y1 + pred_test_y2\n",
    "    mixed_score.sort(reverse=True)\n",
    "    rank = (mixed_score.index(score_pred)/len(df)) * 100\n",
    "    return rank\n",
    "    "
   ]
  },
  {
   "cell_type": "code",
   "execution_count": 9,
   "metadata": {},
   "outputs": [],
   "source": [
    "#set_dummy_variable_value(X_y1_test, 'license')\n",
    "dictionary = {\"license\" : [\"license_Exempt\", \"license_Unknown\", \"license_Yes\"],\n",
    "              \"host_response_time\" : [\"host_response_time_Unknown\", \"host_response_time_a few days or more\",\"host_response_time_within a day\", \n",
    "                                      \"host_response_time_within a few hours\", \"host_response_time_within an hour\"],\n",
    "              \"instant_bookable\" : [\"instant_bookable_f\", \"instant_bookable_t\"],\n",
    "              \"host_is_superhost\" : [\"host_is_superhost_f\", \"host_is_superhost_t\"]}\n",
    "\n",
    "list1 = [\"price\", \"minimum_nights\", \"Shower gel\", \"Crib\", \"host_response_time\", \"license\"]\n",
    "list2 = [\"host_acceptance_rate\", \"minimum_nights\", \"Coffee maker\", \"Shower gel\", \"Crib\", \"Wifi\", \"Cleaning products\", \n",
    "        \"Wine glasses\", \"reviews\", \"host_response_time\", \"host_is_superhost\", \"license\", \"instant_bookable\"]\n",
    "\n",
    "list_t = list1 + list2\n",
    "var = list(np.unique(list_t))\n"
   ]
  },
  {
   "cell_type": "code",
   "execution_count": 11,
   "metadata": {},
   "outputs": [
    {
     "name": "stderr",
     "output_type": "stream",
     "text": [
      "C:\\Users\\Andreu\\AppData\\Local\\Temp\\ipykernel_968\\1745960534.py:6: SettingWithCopyWarning: \n",
      "A value is trying to be set on a copy of a slice from a DataFrame.\n",
      "Try using .loc[row_indexer,col_indexer] = value instead\n",
      "\n",
      "See the caveats in the documentation: https://pandas.pydata.org/pandas-docs/stable/user_guide/indexing.html#returning-a-view-versus-a-copy\n",
      "  series[variable] = float(new_value_str)\n",
      "C:\\Users\\Andreu\\AppData\\Local\\Temp\\ipykernel_968\\1745960534.py:45: SettingWithCopyWarning: \n",
      "A value is trying to be set on a copy of a slice from a DataFrame.\n",
      "Try using .loc[row_indexer,col_indexer] = value instead\n",
      "\n",
      "See the caveats in the documentation: https://pandas.pydata.org/pandas-docs/stable/user_guide/indexing.html#returning-a-view-versus-a-copy\n",
      "  series2[name] = series1[name]\n"
     ]
    }
   ],
   "source": [
    "test_change(X_y1_test, X_y2_test, var, dictionary)"
   ]
  },
  {
   "cell_type": "code",
   "execution_count": 12,
   "metadata": {},
   "outputs": [
    {
     "data": {
      "text/plain": [
       "20.057349833987324"
      ]
     },
     "execution_count": 12,
     "metadata": {},
     "output_type": "execute_result"
    }
   ],
   "source": [
    "ranking_score(X_y1_train, X_y2_train, X_y1_test, X_y2_test, xg_reg_y1, xg_reg_y2)"
   ]
  }
 ],
 "metadata": {
  "kernelspec": {
   "display_name": "Python 3.9.7 ('base')",
   "language": "python",
   "name": "python3"
  },
  "language_info": {
   "codemirror_mode": {
    "name": "ipython",
    "version": 3
   },
   "file_extension": ".py",
   "mimetype": "text/x-python",
   "name": "python",
   "nbconvert_exporter": "python",
   "pygments_lexer": "ipython3",
   "version": "3.9.7"
  },
  "orig_nbformat": 4,
  "vscode": {
   "interpreter": {
    "hash": "ca887553da261e86e9d851ab5ff517c434ed13fc4775aa65dee5e0c49c1dcffc"
   }
  }
 },
 "nbformat": 4,
 "nbformat_minor": 2
}

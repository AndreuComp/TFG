{
 "cells": [
  {
   "cell_type": "code",
   "execution_count": 1,
   "metadata": {},
   "outputs": [],
   "source": [
    "# LIBRERIAS\n",
    "import pandas as pd\n",
    "import numpy as np"
   ]
  },
  {
   "cell_type": "code",
   "execution_count": 2,
   "metadata": {},
   "outputs": [],
   "source": [
    "# IMPORTACIÓN DE LOS DATOS\n",
    "list_dec = pd.read_csv(\"listings_dec.csv\")\n",
    "list_sept = pd.read_csv(\"listings_sept.csv\")\n",
    "cal_sept = pd.read_csv(\"calendar_sept.csv\")"
   ]
  },
  {
   "cell_type": "code",
   "execution_count": 4,
   "metadata": {},
   "outputs": [
    {
     "name": "stdout",
     "output_type": "stream",
     "text": [
      "False\n",
      "False\n"
     ]
    }
   ],
   "source": [
    "# COMPROVACIÓN DE DUPLICADOS\n",
    "print(len(list_sept[\"id\"]) != len(set(list_sept[\"id\"])))\n",
    "print(len(list_dec[\"id\"]) != len(set(list_dec[\"id\"])))"
   ]
  },
  {
   "cell_type": "code",
   "execution_count": 5,
   "metadata": {},
   "outputs": [],
   "source": [
    "# FILTRADO DE FECHAS Y DISPONIBLIDAD\n",
    "cal_filter = cal_sept[(cal_sept[\"date\"] > \"2021-09-09\") & (cal_sept[\"date\"] < \"2021-12-08\") & (cal_sept[\"available\"] == \"f\")]"
   ]
  },
  {
   "cell_type": "code",
   "execution_count": 6,
   "metadata": {},
   "outputs": [],
   "source": [
    "# NUMERO DE DIAS QUE HAN ESTADO ALQUILADOS\n",
    "days_booked = cal_filter[\"listing_id\"].value_counts()\n",
    "days_booked = pd.Series.to_frame(days_booked)\n",
    "days_booked[\"id\"] = days_booked.index"
   ]
  },
  {
   "cell_type": "markdown",
   "metadata": {},
   "source": [
    "Una vez ya tenemos preparado el número de dias que ha sido alquilada cada vivenda ya podemos buscar los \"id\" de las viviendas que estan en las tres bases de datos, las cuales utilizaremos para realizar este estudio y formaran parte del data frame."
   ]
  },
  {
   "cell_type": "code",
   "execution_count": 9,
   "metadata": {},
   "outputs": [],
   "source": [
    "# DIFERENCIA EN EL NÚMERO DE RESEÑAS\n",
    "index = pd.merge(list_sept, list_dec, on = \"id\")[\"id\"]\n",
    "index = pd.merge(days_booked, index, on = \"id\")[\"id\"]\n",
    "reviews_sept = pd.merge(list_sept, index, on = \"id\")[\"number_of_reviews\"]\n",
    "reviews_dec = pd.merge(list_dec, index, on = \"id\")[\"number_of_reviews\"]\n",
    "reviews_diff = reviews_dec - reviews_sept\n",
    "# days_booked PARA ORDENADA SEGÚN \"ID\"\n",
    "days_booked = pd.merge(days_booked, index, on = \"id\")\n",
    "days_booked = days_booked.sort_values(\"id\")\n",
    "days_booked[\"days_booked\"] = days_booked[\"listing_id\"]\n",
    "del days_booked[\"listing_id\"]"
   ]
  },
  {
   "cell_type": "markdown",
   "metadata": {},
   "source": [
    "Crearemos ahora el data frame con el que empezaremos a trabajar a traves del \"list_sept\" con los indices calculados anteriormente en la variable \"index\" y añadiremos las variables \"review_diff\" y \"days_booked\"."
   ]
  },
  {
   "cell_type": "code",
   "execution_count": 10,
   "metadata": {},
   "outputs": [],
   "source": [
    "# DATA FRAME FINAL: LISTING\n",
    "listing_nt = pd.merge(list_sept, index, on = \"id\")\n",
    "listing_nt = listing_nt.sort_values(\"id\")\n",
    "listing_nt[\"reviews_diff\"] = reviews_diff\n",
    "listing_nt = pd.merge(listing_nt,days_booked, on = \"id\")"
   ]
  },
  {
   "cell_type": "code",
   "execution_count": 12,
   "metadata": {},
   "outputs": [],
   "source": [
    "listing_nt.to_csv(\"E:\\Data\\TFG\\listing_nt.csv\")"
   ]
  },
  {
   "cell_type": "markdown",
   "metadata": {},
   "source": [
    "Finalmente guardamos el csv listing_nt (listing no tratado) para posteriormente realizar un preprocesamiento a los datos antes de empezar con los distintas metodologias que se emplearan en el estudio."
   ]
  }
 ],
 "metadata": {
  "interpreter": {
   "hash": "a5ec444602567769305c6f716caf142a12ec37699d12aa29bb78bb9d11e0db35"
  },
  "kernelspec": {
   "display_name": "Python 3.9.7 64-bit (system)",
   "language": "python",
   "name": "python3"
  },
  "language_info": {
   "codemirror_mode": {
    "name": "ipython",
    "version": 3
   },
   "file_extension": ".py",
   "mimetype": "text/x-python",
   "name": "python",
   "nbconvert_exporter": "python",
   "pygments_lexer": "ipython3",
   "version": "3.9.7"
  },
  "orig_nbformat": 4
 },
 "nbformat": 4,
 "nbformat_minor": 2
}
